{
 "cells": [
  {
   "cell_type": "markdown",
   "metadata": {},
   "source": [
    "# Importar librerias"
   ]
  },
  {
   "cell_type": "code",
   "execution_count": 202,
   "metadata": {},
   "outputs": [],
   "source": [
    "import matplotlib.pyplot as plt\n",
    "import numpy as np\n",
    "import pandas as pd\n",
    "from sklearn.model_selection import train_test_split\n",
    "from sklearn.linear_model import LogisticRegression\n",
    "from sklearn.metrics import confusion_matrix, accuracy_score, ConfusionMatrixDisplay\n",
    "from sklearn.preprocessing import StandardScaler\n",
    "import seaborn as sns\n",
    "sns.set()"
   ]
  },
  {
   "cell_type": "markdown",
   "metadata": {},
   "source": [
    "# Carga de datos"
   ]
  },
  {
   "cell_type": "code",
   "execution_count": 203,
   "metadata": {},
   "outputs": [
    {
     "data": {
      "text/html": [
       "<div>\n",
       "<style scoped>\n",
       "    .dataframe tbody tr th:only-of-type {\n",
       "        vertical-align: middle;\n",
       "    }\n",
       "\n",
       "    .dataframe tbody tr th {\n",
       "        vertical-align: top;\n",
       "    }\n",
       "\n",
       "    .dataframe thead th {\n",
       "        text-align: right;\n",
       "    }\n",
       "</style>\n",
       "<table border=\"1\" class=\"dataframe\">\n",
       "  <thead>\n",
       "    <tr style=\"text-align: right;\">\n",
       "      <th></th>\n",
       "      <th>Area</th>\n",
       "      <th>Perimeter</th>\n",
       "      <th>MajorAxisLength</th>\n",
       "      <th>MinorAxisLength</th>\n",
       "      <th>AspectRation</th>\n",
       "      <th>Eccentricity</th>\n",
       "      <th>ConvexArea</th>\n",
       "      <th>EquivDiameter</th>\n",
       "      <th>Extent</th>\n",
       "      <th>Solidity</th>\n",
       "      <th>roundness</th>\n",
       "      <th>Compactness</th>\n",
       "      <th>ShapeFactor1</th>\n",
       "      <th>ShapeFactor2</th>\n",
       "      <th>ShapeFactor3</th>\n",
       "      <th>ShapeFactor4</th>\n",
       "      <th>Class</th>\n",
       "    </tr>\n",
       "  </thead>\n",
       "  <tbody>\n",
       "    <tr>\n",
       "      <th>0</th>\n",
       "      <td>28395</td>\n",
       "      <td>610.291</td>\n",
       "      <td>208.178117</td>\n",
       "      <td>173.888747</td>\n",
       "      <td>1.197191</td>\n",
       "      <td>0.549812</td>\n",
       "      <td>28715</td>\n",
       "      <td>190.141097</td>\n",
       "      <td>0.763923</td>\n",
       "      <td>0.988856</td>\n",
       "      <td>0.958027</td>\n",
       "      <td>0.913358</td>\n",
       "      <td>0.007332</td>\n",
       "      <td>0.003147</td>\n",
       "      <td>0.834222</td>\n",
       "      <td>0.998724</td>\n",
       "      <td>SEKER</td>\n",
       "    </tr>\n",
       "    <tr>\n",
       "      <th>1</th>\n",
       "      <td>28734</td>\n",
       "      <td>638.018</td>\n",
       "      <td>200.524796</td>\n",
       "      <td>182.734419</td>\n",
       "      <td>1.097356</td>\n",
       "      <td>0.411785</td>\n",
       "      <td>29172</td>\n",
       "      <td>191.272751</td>\n",
       "      <td>0.783968</td>\n",
       "      <td>0.984986</td>\n",
       "      <td>0.887034</td>\n",
       "      <td>0.953861</td>\n",
       "      <td>0.006979</td>\n",
       "      <td>0.003564</td>\n",
       "      <td>0.909851</td>\n",
       "      <td>0.998430</td>\n",
       "      <td>SEKER</td>\n",
       "    </tr>\n",
       "    <tr>\n",
       "      <th>2</th>\n",
       "      <td>29380</td>\n",
       "      <td>624.110</td>\n",
       "      <td>212.826130</td>\n",
       "      <td>175.931143</td>\n",
       "      <td>1.209713</td>\n",
       "      <td>0.562727</td>\n",
       "      <td>29690</td>\n",
       "      <td>193.410904</td>\n",
       "      <td>0.778113</td>\n",
       "      <td>0.989559</td>\n",
       "      <td>0.947849</td>\n",
       "      <td>0.908774</td>\n",
       "      <td>0.007244</td>\n",
       "      <td>0.003048</td>\n",
       "      <td>0.825871</td>\n",
       "      <td>0.999066</td>\n",
       "      <td>SEKER</td>\n",
       "    </tr>\n",
       "    <tr>\n",
       "      <th>3</th>\n",
       "      <td>30008</td>\n",
       "      <td>645.884</td>\n",
       "      <td>210.557999</td>\n",
       "      <td>182.516516</td>\n",
       "      <td>1.153638</td>\n",
       "      <td>0.498616</td>\n",
       "      <td>30724</td>\n",
       "      <td>195.467062</td>\n",
       "      <td>0.782681</td>\n",
       "      <td>0.976696</td>\n",
       "      <td>0.903936</td>\n",
       "      <td>0.928329</td>\n",
       "      <td>0.007017</td>\n",
       "      <td>0.003215</td>\n",
       "      <td>0.861794</td>\n",
       "      <td>0.994199</td>\n",
       "      <td>SEKER</td>\n",
       "    </tr>\n",
       "    <tr>\n",
       "      <th>4</th>\n",
       "      <td>30140</td>\n",
       "      <td>620.134</td>\n",
       "      <td>201.847882</td>\n",
       "      <td>190.279279</td>\n",
       "      <td>1.060798</td>\n",
       "      <td>0.333680</td>\n",
       "      <td>30417</td>\n",
       "      <td>195.896503</td>\n",
       "      <td>0.773098</td>\n",
       "      <td>0.990893</td>\n",
       "      <td>0.984877</td>\n",
       "      <td>0.970516</td>\n",
       "      <td>0.006697</td>\n",
       "      <td>0.003665</td>\n",
       "      <td>0.941900</td>\n",
       "      <td>0.999166</td>\n",
       "      <td>SEKER</td>\n",
       "    </tr>\n",
       "  </tbody>\n",
       "</table>\n",
       "</div>"
      ],
      "text/plain": [
       "    Area  Perimeter  MajorAxisLength  MinorAxisLength  AspectRation  \\\n",
       "0  28395    610.291       208.178117       173.888747      1.197191   \n",
       "1  28734    638.018       200.524796       182.734419      1.097356   \n",
       "2  29380    624.110       212.826130       175.931143      1.209713   \n",
       "3  30008    645.884       210.557999       182.516516      1.153638   \n",
       "4  30140    620.134       201.847882       190.279279      1.060798   \n",
       "\n",
       "   Eccentricity  ConvexArea  EquivDiameter    Extent  Solidity  roundness  \\\n",
       "0      0.549812       28715     190.141097  0.763923  0.988856   0.958027   \n",
       "1      0.411785       29172     191.272751  0.783968  0.984986   0.887034   \n",
       "2      0.562727       29690     193.410904  0.778113  0.989559   0.947849   \n",
       "3      0.498616       30724     195.467062  0.782681  0.976696   0.903936   \n",
       "4      0.333680       30417     195.896503  0.773098  0.990893   0.984877   \n",
       "\n",
       "   Compactness  ShapeFactor1  ShapeFactor2  ShapeFactor3  ShapeFactor4  Class  \n",
       "0     0.913358      0.007332      0.003147      0.834222      0.998724  SEKER  \n",
       "1     0.953861      0.006979      0.003564      0.909851      0.998430  SEKER  \n",
       "2     0.908774      0.007244      0.003048      0.825871      0.999066  SEKER  \n",
       "3     0.928329      0.007017      0.003215      0.861794      0.994199  SEKER  \n",
       "4     0.970516      0.006697      0.003665      0.941900      0.999166  SEKER  "
      ]
     },
     "execution_count": 203,
     "metadata": {},
     "output_type": "execute_result"
    }
   ],
   "source": [
    "df = pd.read_csv(\"../Data/Dry_Bean.csv\")\n",
    "df.head()"
   ]
  },
  {
   "cell_type": "code",
   "execution_count": 204,
   "metadata": {},
   "outputs": [
    {
     "data": {
      "text/plain": [
       "array(['SEKER', 'BARBUNYA', 'BOMBAY', 'CALI', 'HOROZ', 'SIRA', 'DERMASON'],\n",
       "      dtype=object)"
      ]
     },
     "execution_count": 204,
     "metadata": {},
     "output_type": "execute_result"
    }
   ],
   "source": [
    "df[\"Class\"].unique()"
   ]
  },
  {
   "cell_type": "markdown",
   "metadata": {},
   "source": [
    "# Drop duplicates"
   ]
  },
  {
   "cell_type": "code",
   "execution_count": 205,
   "metadata": {},
   "outputs": [],
   "source": [
    "df.drop_duplicates(inplace=True)"
   ]
  },
  {
   "cell_type": "markdown",
   "metadata": {},
   "source": []
  },
  {
   "cell_type": "markdown",
   "metadata": {},
   "source": [
    "# Manejo valores nulos"
   ]
  },
  {
   "cell_type": "code",
   "execution_count": 206,
   "metadata": {},
   "outputs": [
    {
     "data": {
      "text/plain": [
       "Area               0\n",
       "Perimeter          0\n",
       "MajorAxisLength    0\n",
       "MinorAxisLength    0\n",
       "AspectRation       0\n",
       "Eccentricity       0\n",
       "ConvexArea         0\n",
       "EquivDiameter      0\n",
       "Extent             0\n",
       "Solidity           0\n",
       "roundness          0\n",
       "Compactness        0\n",
       "ShapeFactor1       0\n",
       "ShapeFactor2       0\n",
       "ShapeFactor3       0\n",
       "ShapeFactor4       0\n",
       "Class              0\n",
       "dtype: int64"
      ]
     },
     "execution_count": 206,
     "metadata": {},
     "output_type": "execute_result"
    }
   ],
   "source": [
    "df.isnull().sum()"
   ]
  },
  {
   "cell_type": "markdown",
   "metadata": {},
   "source": [
    "# Undersampliing"
   ]
  },
  {
   "cell_type": "code",
   "execution_count": 207,
   "metadata": {},
   "outputs": [
    {
     "data": {
      "image/png": "[encoded data removed]",
      "text/plain": [
       "<Figure size 640x480 with 1 Axes>"
      ]
     },
     "metadata": {},
     "output_type": "display_data"
    }
   ],
   "source": [
    "sns.countplot(df.Class);\n"
   ]
  },
  {
   "cell_type": "markdown",
   "metadata": {},
   "source": [
    "Para que sea  unbuen modelo, deberia tener la misma canitdad de ejemplos de cada clase, por eso como la minima tiene cerca de 500 datos, bajaremos todos a la minima"
   ]
  },
  {
   "cell_type": "code",
   "execution_count": 208,
   "metadata": {},
   "outputs": [],
   "source": [
    "from imblearn.under_sampling import RandomUnderSampler\n",
    "\n",
    "undersample = RandomUnderSampler(random_state=42)\n",
    "\n"
   ]
  },
  {
   "cell_type": "code",
   "execution_count": 209,
   "metadata": {},
   "outputs": [],
   "source": [
    "X = df.drop(\"Class\", axis =1)\n",
    "y = df.Class\n"
   ]
  },
  {
   "cell_type": "code",
   "execution_count": 210,
   "metadata": {},
   "outputs": [],
   "source": [
    "X_over , y_over = undersample.fit_resample(X,y)"
   ]
  },
  {
   "cell_type": "code",
   "execution_count": 211,
   "metadata": {},
   "outputs": [
    {
     "data": {
      "image/png": "[encoded data removed]",
      "text/plain": [
       "<Figure size 640x480 with 1 Axes>"
      ]
     },
     "metadata": {},
     "output_type": "display_data"
    }
   ],
   "source": [
    "sns.countplot(y_over);"
   ]
  },
  {
   "cell_type": "code",
   "execution_count": 212,
   "metadata": {},
   "outputs": [
    {
     "name": "stdout",
     "output_type": "stream",
     "text": [
      "(13543, 17)\n",
      "(3654, 16)\n"
     ]
    }
   ],
   "source": [
    "print(df.shape)\n",
    "print(X_over.shape)"
   ]
  },
  {
   "cell_type": "markdown",
   "metadata": {},
   "source": [
    "# Conversión a numéricos"
   ]
  },
  {
   "cell_type": "code",
   "execution_count": 213,
   "metadata": {},
   "outputs": [
    {
     "data": {
      "text/plain": [
       "['BARBUNYA', 'BOMBAY', 'CALI', 'DERMASON', 'HOROZ', 'SEKER', 'SIRA']"
      ]
     },
     "execution_count": 213,
     "metadata": {},
     "output_type": "execute_result"
    }
   ],
   "source": [
    "list(np.unique(y_over))"
   ]
  },
  {
   "cell_type": "code",
   "execution_count": 214,
   "metadata": {},
   "outputs": [
    {
     "name": "stderr",
     "output_type": "stream",
     "text": [
      "/var/folders/52/bzfm61sj2znfqg12w34hpj6c0000gp/T/ipykernel_29880/3082522694.py:1: FutureWarning: Downcasting behavior in `replace` is deprecated and will be removed in a future version. To retain the old behavior, explicitly call `result.infer_objects(copy=False)`. To opt-in to the future behavior, set `pd.set_option('future.no_silent_downcasting', True)`\n",
      "  y_over.replace(['BARBUNYA', 'BOMBAY', 'CALI', 'DERMASON', 'HOROZ', 'SEKER', 'SIRA'],[1,2,3,4,5,6,7], inplace = True)\n"
     ]
    }
   ],
   "source": [
    "y_over.replace(['BARBUNYA', 'BOMBAY', 'CALI', 'DERMASON', 'HOROZ', 'SEKER', 'SIRA'],[1,2,3,4,5,6,7], inplace = True)"
   ]
  },
  {
   "cell_type": "code",
   "execution_count": 215,
   "metadata": {},
   "outputs": [
    {
     "data": {
      "text/plain": [
       "[1, 2, 3, 4, 5, 6, 7]"
      ]
     },
     "execution_count": 215,
     "metadata": {},
     "output_type": "execute_result"
    }
   ],
   "source": [
    "list(np.unique(y_over))"
   ]
  },
  {
   "cell_type": "markdown",
   "metadata": {},
   "source": [
    "# EDA"
   ]
  },
  {
   "cell_type": "markdown",
   "metadata": {},
   "source": [
    "## Correlations"
   ]
  },
  {
   "cell_type": "code",
   "execution_count": 216,
   "metadata": {},
   "outputs": [
    {
     "data": {
      "text/html": [
       "<div>\n",
       "<style scoped>\n",
       "    .dataframe tbody tr th:only-of-type {\n",
       "        vertical-align: middle;\n",
       "    }\n",
       "\n",
       "    .dataframe tbody tr th {\n",
       "        vertical-align: top;\n",
       "    }\n",
       "\n",
       "    .dataframe thead th {\n",
       "        text-align: right;\n",
       "    }\n",
       "</style>\n",
       "<table border=\"1\" class=\"dataframe\">\n",
       "  <thead>\n",
       "    <tr style=\"text-align: right;\">\n",
       "      <th></th>\n",
       "      <th>Area</th>\n",
       "      <th>Perimeter</th>\n",
       "      <th>MajorAxisLength</th>\n",
       "      <th>MinorAxisLength</th>\n",
       "      <th>AspectRation</th>\n",
       "      <th>Eccentricity</th>\n",
       "      <th>ConvexArea</th>\n",
       "      <th>EquivDiameter</th>\n",
       "      <th>Extent</th>\n",
       "      <th>Solidity</th>\n",
       "      <th>roundness</th>\n",
       "      <th>Compactness</th>\n",
       "      <th>ShapeFactor1</th>\n",
       "      <th>ShapeFactor2</th>\n",
       "      <th>ShapeFactor3</th>\n",
       "      <th>ShapeFactor4</th>\n",
       "    </tr>\n",
       "  </thead>\n",
       "  <tbody>\n",
       "    <tr>\n",
       "      <th>2754</th>\n",
       "      <td>70776</td>\n",
       "      <td>1060.894</td>\n",
       "      <td>386.619944</td>\n",
       "      <td>234.100208</td>\n",
       "      <td>1.651515</td>\n",
       "      <td>0.795842</td>\n",
       "      <td>71978</td>\n",
       "      <td>300.191276</td>\n",
       "      <td>0.775763</td>\n",
       "      <td>0.983300</td>\n",
       "      <td>0.790227</td>\n",
       "      <td>0.776451</td>\n",
       "      <td>0.005463</td>\n",
       "      <td>0.001225</td>\n",
       "      <td>0.602875</td>\n",
       "      <td>0.995658</td>\n",
       "    </tr>\n",
       "    <tr>\n",
       "      <th>2506</th>\n",
       "      <td>66370</td>\n",
       "      <td>1004.139</td>\n",
       "      <td>339.287072</td>\n",
       "      <td>249.883085</td>\n",
       "      <td>1.357783</td>\n",
       "      <td>0.676443</td>\n",
       "      <td>67637</td>\n",
       "      <td>290.697280</td>\n",
       "      <td>0.720536</td>\n",
       "      <td>0.981268</td>\n",
       "      <td>0.827169</td>\n",
       "      <td>0.856789</td>\n",
       "      <td>0.005112</td>\n",
       "      <td>0.001699</td>\n",
       "      <td>0.734087</td>\n",
       "      <td>0.996731</td>\n",
       "    </tr>\n",
       "    <tr>\n",
       "      <th>2267</th>\n",
       "      <td>60736</td>\n",
       "      <td>985.501</td>\n",
       "      <td>342.445302</td>\n",
       "      <td>226.741775</td>\n",
       "      <td>1.510288</td>\n",
       "      <td>0.749393</td>\n",
       "      <td>61680</td>\n",
       "      <td>278.085377</td>\n",
       "      <td>0.789353</td>\n",
       "      <td>0.984695</td>\n",
       "      <td>0.785854</td>\n",
       "      <td>0.812058</td>\n",
       "      <td>0.005638</td>\n",
       "      <td>0.001512</td>\n",
       "      <td>0.659438</td>\n",
       "      <td>0.995941</td>\n",
       "    </tr>\n",
       "    <tr>\n",
       "      <th>2449</th>\n",
       "      <td>65219</td>\n",
       "      <td>1011.110</td>\n",
       "      <td>353.650546</td>\n",
       "      <td>235.308999</td>\n",
       "      <td>1.502920</td>\n",
       "      <td>0.746512</td>\n",
       "      <td>66672</td>\n",
       "      <td>288.165594</td>\n",
       "      <td>0.719436</td>\n",
       "      <td>0.978207</td>\n",
       "      <td>0.801654</td>\n",
       "      <td>0.814831</td>\n",
       "      <td>0.005423</td>\n",
       "      <td>0.001475</td>\n",
       "      <td>0.663950</td>\n",
       "      <td>0.997864</td>\n",
       "    </tr>\n",
       "    <tr>\n",
       "      <th>2076</th>\n",
       "      <td>51332</td>\n",
       "      <td>889.637</td>\n",
       "      <td>330.822804</td>\n",
       "      <td>198.618899</td>\n",
       "      <td>1.665616</td>\n",
       "      <td>0.799716</td>\n",
       "      <td>52283</td>\n",
       "      <td>255.651975</td>\n",
       "      <td>0.751688</td>\n",
       "      <td>0.981811</td>\n",
       "      <td>0.815028</td>\n",
       "      <td>0.772776</td>\n",
       "      <td>0.006445</td>\n",
       "      <td>0.001418</td>\n",
       "      <td>0.597183</td>\n",
       "      <td>0.994678</td>\n",
       "    </tr>\n",
       "    <tr>\n",
       "      <th>...</th>\n",
       "      <td>...</td>\n",
       "      <td>...</td>\n",
       "      <td>...</td>\n",
       "      <td>...</td>\n",
       "      <td>...</td>\n",
       "      <td>...</td>\n",
       "      <td>...</td>\n",
       "      <td>...</td>\n",
       "      <td>...</td>\n",
       "      <td>...</td>\n",
       "      <td>...</td>\n",
       "      <td>...</td>\n",
       "      <td>...</td>\n",
       "      <td>...</td>\n",
       "      <td>...</td>\n",
       "      <td>...</td>\n",
       "    </tr>\n",
       "    <tr>\n",
       "      <th>8692</th>\n",
       "      <td>44358</td>\n",
       "      <td>785.631</td>\n",
       "      <td>288.303275</td>\n",
       "      <td>196.970714</td>\n",
       "      <td>1.463686</td>\n",
       "      <td>0.730225</td>\n",
       "      <td>44898</td>\n",
       "      <td>237.651761</td>\n",
       "      <td>0.791937</td>\n",
       "      <td>0.987973</td>\n",
       "      <td>0.903118</td>\n",
       "      <td>0.824312</td>\n",
       "      <td>0.006499</td>\n",
       "      <td>0.001851</td>\n",
       "      <td>0.679490</td>\n",
       "      <td>0.994560</td>\n",
       "    </tr>\n",
       "    <tr>\n",
       "      <th>7578</th>\n",
       "      <td>37641</td>\n",
       "      <td>742.538</td>\n",
       "      <td>284.313737</td>\n",
       "      <td>169.740814</td>\n",
       "      <td>1.674987</td>\n",
       "      <td>0.802227</td>\n",
       "      <td>38112</td>\n",
       "      <td>218.920099</td>\n",
       "      <td>0.744187</td>\n",
       "      <td>0.987642</td>\n",
       "      <td>0.857894</td>\n",
       "      <td>0.769995</td>\n",
       "      <td>0.007553</td>\n",
       "      <td>0.001638</td>\n",
       "      <td>0.592892</td>\n",
       "      <td>0.993087</td>\n",
       "    </tr>\n",
       "    <tr>\n",
       "      <th>7924</th>\n",
       "      <td>40668</td>\n",
       "      <td>747.000</td>\n",
       "      <td>271.731569</td>\n",
       "      <td>191.687622</td>\n",
       "      <td>1.417575</td>\n",
       "      <td>0.708780</td>\n",
       "      <td>41257</td>\n",
       "      <td>227.552424</td>\n",
       "      <td>0.712162</td>\n",
       "      <td>0.985724</td>\n",
       "      <td>0.915844</td>\n",
       "      <td>0.837416</td>\n",
       "      <td>0.006682</td>\n",
       "      <td>0.002027</td>\n",
       "      <td>0.701266</td>\n",
       "      <td>0.994097</td>\n",
       "    </tr>\n",
       "    <tr>\n",
       "      <th>9972</th>\n",
       "      <td>53233</td>\n",
       "      <td>893.511</td>\n",
       "      <td>329.969126</td>\n",
       "      <td>206.375684</td>\n",
       "      <td>1.598876</td>\n",
       "      <td>0.780273</td>\n",
       "      <td>54022</td>\n",
       "      <td>260.342775</td>\n",
       "      <td>0.689154</td>\n",
       "      <td>0.985395</td>\n",
       "      <td>0.837898</td>\n",
       "      <td>0.788991</td>\n",
       "      <td>0.006199</td>\n",
       "      <td>0.001482</td>\n",
       "      <td>0.622507</td>\n",
       "      <td>0.995312</td>\n",
       "    </tr>\n",
       "    <tr>\n",
       "      <th>9720</th>\n",
       "      <td>49905</td>\n",
       "      <td>852.703</td>\n",
       "      <td>321.320571</td>\n",
       "      <td>199.684288</td>\n",
       "      <td>1.609143</td>\n",
       "      <td>0.783455</td>\n",
       "      <td>50891</td>\n",
       "      <td>252.073441</td>\n",
       "      <td>0.759242</td>\n",
       "      <td>0.980625</td>\n",
       "      <td>0.862498</td>\n",
       "      <td>0.784492</td>\n",
       "      <td>0.006439</td>\n",
       "      <td>0.001504</td>\n",
       "      <td>0.615428</td>\n",
       "      <td>0.990311</td>\n",
       "    </tr>\n",
       "  </tbody>\n",
       "</table>\n",
       "<p>3654 rows × 16 columns</p>\n",
       "</div>"
      ],
      "text/plain": [
       "       Area  Perimeter  MajorAxisLength  MinorAxisLength  AspectRation  \\\n",
       "2754  70776   1060.894       386.619944       234.100208      1.651515   \n",
       "2506  66370   1004.139       339.287072       249.883085      1.357783   \n",
       "2267  60736    985.501       342.445302       226.741775      1.510288   \n",
       "2449  65219   1011.110       353.650546       235.308999      1.502920   \n",
       "2076  51332    889.637       330.822804       198.618899      1.665616   \n",
       "...     ...        ...              ...              ...           ...   \n",
       "8692  44358    785.631       288.303275       196.970714      1.463686   \n",
       "7578  37641    742.538       284.313737       169.740814      1.674987   \n",
       "7924  40668    747.000       271.731569       191.687622      1.417575   \n",
       "9972  53233    893.511       329.969126       206.375684      1.598876   \n",
       "9720  49905    852.703       321.320571       199.684288      1.609143   \n",
       "\n",
       "      Eccentricity  ConvexArea  EquivDiameter    Extent  Solidity  roundness  \\\n",
       "2754      0.795842       71978     300.191276  0.775763  0.983300   0.790227   \n",
       "2506      0.676443       67637     290.697280  0.720536  0.981268   0.827169   \n",
       "2267      0.749393       61680     278.085377  0.789353  0.984695   0.785854   \n",
       "2449      0.746512       66672     288.165594  0.719436  0.978207   0.801654   \n",
       "2076      0.799716       52283     255.651975  0.751688  0.981811   0.815028   \n",
       "...            ...         ...            ...       ...       ...        ...   \n",
       "8692      0.730225       44898     237.651761  0.791937  0.987973   0.903118   \n",
       "7578      0.802227       38112     218.920099  0.744187  0.987642   0.857894   \n",
       "7924      0.708780       41257     227.552424  0.712162  0.985724   0.915844   \n",
       "9972      0.780273       54022     260.342775  0.689154  0.985395   0.837898   \n",
       "9720      0.783455       50891     252.073441  0.759242  0.980625   0.862498   \n",
       "\n",
       "      Compactness  ShapeFactor1  ShapeFactor2  ShapeFactor3  ShapeFactor4  \n",
       "2754     0.776451      0.005463      0.001225      0.602875      0.995658  \n",
       "2506     0.856789      0.005112      0.001699      0.734087      0.996731  \n",
       "2267     0.812058      0.005638      0.001512      0.659438      0.995941  \n",
       "2449     0.814831      0.005423      0.001475      0.663950      0.997864  \n",
       "2076     0.772776      0.006445      0.001418      0.597183      0.994678  \n",
       "...           ...           ...           ...           ...           ...  \n",
       "8692     0.824312      0.006499      0.001851      0.679490      0.994560  \n",
       "7578     0.769995      0.007553      0.001638      0.592892      0.993087  \n",
       "7924     0.837416      0.006682      0.002027      0.701266      0.994097  \n",
       "9972     0.788991      0.006199      0.001482      0.622507      0.995312  \n",
       "9720     0.784492      0.006439      0.001504      0.615428      0.990311  \n",
       "\n",
       "[3654 rows x 16 columns]"
      ]
     },
     "execution_count": 216,
     "metadata": {},
     "output_type": "execute_result"
    }
   ],
   "source": [
    "X_over"
   ]
  },
  {
   "cell_type": "code",
   "execution_count": 217,
   "metadata": {},
   "outputs": [],
   "source": [
    "#df_dea = np.copy(X_over)\n",
    "#df_dea[\"Class\"] = y_over"
   ]
  },
  {
   "cell_type": "code",
   "execution_count": 218,
   "metadata": {},
   "outputs": [
    {
     "data": {
      "text/plain": [
       "<Figure size 1500x1000 with 0 Axes>"
      ]
     },
     "execution_count": 218,
     "metadata": {},
     "output_type": "execute_result"
    },
    {
     "data": {
      "text/plain": [
       "<Figure size 1500x1000 with 0 Axes>"
      ]
     },
     "metadata": {},
     "output_type": "display_data"
    }
   ],
   "source": [
    "plt.figure(figsize=(15,10))\n",
    "#sns.heatmap(df_dea.corr(), annot=True);"
   ]
  },
  {
   "cell_type": "code",
   "execution_count": 219,
   "metadata": {},
   "outputs": [],
   "source": [
    "X_over.drop([\"ConvexArea\", \"EquivDiameter\"], axis=1, inplace=True)"
   ]
  },
  {
   "cell_type": "markdown",
   "metadata": {},
   "source": [
    "# Visulización de datos"
   ]
  },
  {
   "cell_type": "code",
   "execution_count": 220,
   "metadata": {},
   "outputs": [],
   "source": [
    "#sns.pairplot(df_dea, hue=\"Class\")"
   ]
  },
  {
   "cell_type": "markdown",
   "metadata": {},
   "source": [
    "# Split y escalamiento de datos"
   ]
  },
  {
   "cell_type": "code",
   "execution_count": 221,
   "metadata": {},
   "outputs": [
    {
     "data": {
      "text/plain": [
       "2754    1\n",
       "2506    1\n",
       "2267    1\n",
       "2449    1\n",
       "2076    1\n",
       "       ..\n",
       "8692    7\n",
       "7578    7\n",
       "7924    7\n",
       "9972    7\n",
       "9720    7\n",
       "Name: Class, Length: 3654, dtype: int64"
      ]
     },
     "execution_count": 221,
     "metadata": {},
     "output_type": "execute_result"
    }
   ],
   "source": [
    "y_over"
   ]
  },
  {
   "cell_type": "code",
   "execution_count": 222,
   "metadata": {},
   "outputs": [],
   "source": [
    "X_train, X_test, y_train, y_test = train_test_split(X_over, y_over, random_state=42, shuffle=True, test_size=0.2)"
   ]
  },
  {
   "cell_type": "code",
   "execution_count": 223,
   "metadata": {},
   "outputs": [],
   "source": [
    "st_x = StandardScaler()\n",
    "X_train = st_x.fit_transform(X_train)\n",
    "X_test = st_x.transform(X_test)\n"
   ]
  },
  {
   "cell_type": "markdown",
   "metadata": {},
   "source": [
    "# modelo multiclase"
   ]
  },
  {
   "cell_type": "code",
   "execution_count": 224,
   "metadata": {},
   "outputs": [],
   "source": [
    "def logistic_model(C_,solver_,multiclass_):\n",
    "    logistic_regression_model  = LogisticRegression(random_state=42, solver=solver_, multi_class=multiclass_, n_jobs=-1, C=C_)\n",
    "    return logistic_regression_model\n"
   ]
  },
  {
   "cell_type": "code",
   "execution_count": 225,
   "metadata": {},
   "outputs": [
    {
     "name": "stdout",
     "output_type": "stream",
     "text": [
      "[[119   0   5   0   1   0   3]\n",
      " [  0  98   0   0   0   0   0]\n",
      " [  5   0  97   0   0   0   1]\n",
      " [  0   0   0  90   0   5  10]\n",
      " [  0   0   4   1  91   0   0]\n",
      " [  3   0   0   0   0  84   4]\n",
      " [  0   0   1   6   6   0  97]]\n",
      "0.9247606019151847\n"
     ]
    },
    {
     "name": "stderr",
     "output_type": "stream",
     "text": [
      "/Users/Sebastian/Desktop/Cursos Platzi/RegresionLogistica_Python/env_data/lib/python3.11/site-packages/sklearn/linear_model/_sag.py:350: ConvergenceWarning: The max_iter was reached which means the coef_ did not converge\n",
      "  warnings.warn(\n"
     ]
    }
   ],
   "source": [
    "model = logistic_model(1,'saga','multinomial')\n",
    "model.fit(X_train, y_train)\n",
    "predictions = model.predict(X_test)\n",
    "print(confusion_matrix(y_test,predictions))\n",
    "print(accuracy_score(y_test,predictions))"
   ]
  },
  {
   "cell_type": "code",
   "execution_count": 226,
   "metadata": {},
   "outputs": [
    {
     "name": "stderr",
     "output_type": "stream",
     "text": [
      "/Users/Sebastian/Desktop/Cursos Platzi/RegresionLogistica_Python/env_data/lib/python3.11/site-packages/sklearn/linear_model/_logistic.py:1216: UserWarning: 'n_jobs' > 1 does not have any effect when 'solver' is set to 'liblinear'. Got 'n_jobs' = 8.\n",
      "  warnings.warn(\n",
      "/Users/Sebastian/Desktop/Cursos Platzi/RegresionLogistica_Python/env_data/lib/python3.11/site-packages/sklearn/linear_model/_sag.py:350: ConvergenceWarning: The max_iter was reached which means the coef_ did not converge\n",
      "  warnings.warn(\n",
      "/Users/Sebastian/Desktop/Cursos Platzi/RegresionLogistica_Python/env_data/lib/python3.11/site-packages/sklearn/linear_model/_sag.py:350: ConvergenceWarning: The max_iter was reached which means the coef_ did not converge\n",
      "  warnings.warn(\n",
      "/Users/Sebastian/Desktop/Cursos Platzi/RegresionLogistica_Python/env_data/lib/python3.11/site-packages/sklearn/linear_model/_sag.py:350: ConvergenceWarning: The max_iter was reached which means the coef_ did not converge\n",
      "  warnings.warn(\n",
      "/Users/Sebastian/Desktop/Cursos Platzi/RegresionLogistica_Python/env_data/lib/python3.11/site-packages/sklearn/linear_model/_sag.py:350: ConvergenceWarning: The max_iter was reached which means the coef_ did not converge\n",
      "  warnings.warn(\n"
     ]
    }
   ],
   "source": [
    "multiclass = ['ovr','multinomial']\n",
    "solver_list = ['liblinear', 'newton-cg', 'lbfgs', 'sag', 'saga']\n",
    "scores = []\n",
    "params = []\n",
    "for i in multiclass:\n",
    "    for j in solcer_list:\n",
    "        try:\n",
    "            model = logistic_model(1,j,i)\n",
    "            model.fit(X_train, y_train)\n",
    "            predictions = model.predict(X_test)\n",
    "            params.append(i + \"-\" + j)\n",
    "            accuracy = accuracy_score(y_test, predictions)\n",
    "            scores.append(accuracy)\n",
    "        except:\n",
    "            None\n"
   ]
  },
  {
   "cell_type": "markdown",
   "metadata": {},
   "source": [
    "# Evaluar resultados"
   ]
  },
  {
   "cell_type": "code",
   "execution_count": 227,
   "metadata": {},
   "outputs": [
    {
     "data": {
      "text/plain": [
       "['ovr-liblinear',\n",
       " 'ovr-newton-cg',\n",
       " 'ovr-lbfgs',\n",
       " 'ovr-sag',\n",
       " 'ovr-saga',\n",
       " 'multinomial-newton-cg',\n",
       " 'multinomial-lbfgs',\n",
       " 'multinomial-sag',\n",
       " 'multinomial-saga']"
      ]
     },
     "execution_count": 227,
     "metadata": {},
     "output_type": "execute_result"
    }
   ],
   "source": [
    "params"
   ]
  },
  {
   "cell_type": "code",
   "execution_count": 228,
   "metadata": {},
   "outputs": [
    {
     "data": {
      "text/plain": [
       "Text(0.5, 1.0, 'Beans Accuracy')"
      ]
     },
     "execution_count": 228,
     "metadata": {},
     "output_type": "execute_result"
    },
    {
     "data": {
      "image/png": "[encoded data removed]",
      "text/plain": [
       "<Figure size 1900x1000 with 1 Axes>"
      ]
     },
     "metadata": {},
     "output_type": "display_data"
    }
   ],
   "source": [
    "fig = plt.figure(figsize=(19,10))\n",
    "sns.barplot(x=params, y=scores).set_title(\"Beans Accuracy\")"
   ]
  },
  {
   "cell_type": "code",
   "execution_count": 229,
   "metadata": {},
   "outputs": [
    {
     "name": "stdout",
     "output_type": "stream",
     "text": [
      "[[119   0   5   0   1   0   3]\n",
      " [  0  98   0   0   0   0   0]\n",
      " [  5   0  97   0   0   0   1]\n",
      " [  0   0   0  90   0   5  10]\n",
      " [  0   0   4   1  91   0   0]\n",
      " [  3   0   0   0   0  84   4]\n",
      " [  0   0   1   6   6   0  97]]\n",
      "0.9247606019151847\n"
     ]
    }
   ],
   "source": [
    "model = logistic_model(1,'newton-cg','multinomial')\n",
    "model.fit(X_train, y_train)\n",
    "predictions = model.predict(X_test)\n",
    "print(confusion_matrix(y_test,predictions))\n",
    "print(accuracy_score(y_test,predictions))"
   ]
  },
  {
   "cell_type": "code",
   "execution_count": 230,
   "metadata": {},
   "outputs": [
    {
     "data": {
      "image/png": "[encoded data removed]",
      "text/plain": [
       "<Figure size 640x480 with 2 Axes>"
      ]
     },
     "metadata": {},
     "output_type": "display_data"
    }
   ],
   "source": [
    "cm = confusion_matrix(y_test, predictions, labels=model.classes_) \n",
    "disp = ConfusionMatrixDisplay(confusion_matrix=cm, display_labels=model.classes_)\n",
    "disp.plot(cmap='gray')\n",
    "plt.show()"
   ]
  },
  {
   "cell_type": "code",
   "execution_count": null,
   "metadata": {},
   "outputs": [],
   "source": []
  },
  {
   "cell_type": "markdown",
   "metadata": {},
   "source": []
  }
 ],
 "metadata": {
  "kernelspec": {
   "display_name": "env_data",
   "language": "python",
   "name": "python3"
  },
  "language_info": {
   "codemirror_mode": {
    "name": "ipython",
    "version": 3
   },
   "file_extension": ".py",
   "mimetype": "text/x-python",
   "name": "python",
   "nbconvert_exporter": "python",
   "pygments_lexer": "ipython3",
   "version": "3.11.7"
  }
 },
 "nbformat": 4,
 "nbformat_minor": 2
}
